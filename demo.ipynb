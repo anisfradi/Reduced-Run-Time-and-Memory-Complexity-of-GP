{
 "cells": [
  {
   "cell_type": "markdown",
   "metadata": {},
   "source": [
    "### import librairies"
   ]
  },
  {
   "cell_type": "code",
   "execution_count": 1,
   "metadata": {},
   "outputs": [],
   "source": [
    "import numpy as np\n",
    "import matplotlib.pyplot as plt\n",
    "import pandas as pd\n",
    "from sklearn import datasets\n",
    "from sklearn.model_selection import train_test_split\n",
    "from sklearn.gaussian_process import GaussianProcessClassifier\n",
    "from sklearn.gaussian_process.kernels import RBF\n",
    "from sklearn_extra.cluster import KMedoids\n",
    "from sklearn.cluster import KMeans\n",
    "from sklearn.neighbors import NearestNeighbors\n",
    "from sklearn.metrics import accuracy_score, precision_score, recall_score, f1_score, roc_auc_score\n",
    "import time\n",
    "import seaborn as sns"
   ]
  },
  {
   "cell_type": "markdown",
   "metadata": {},
   "source": [
    "### Load original_data"
   ]
  },
  {
   "cell_type": "code",
   "execution_count": 2,
   "metadata": {},
   "outputs": [],
   "source": [
    "data = pd.read_csv(\"Animal_Original.csv\")\n",
    "# Assuming every other feature starting from the first one\n",
    "selected_features = data.columns[::2][:100]\n",
    "\n",
    "X = data[selected_features]\n",
    "y = data.iloc[:, -1]\n",
    "# Split data into trainig 75% and test 25%\n",
    "X_train, X_test, y_train, y_test = train_test_split(X, y, test_size=0.25)"
   ]
  },
  {
   "cell_type": "code",
   "execution_count": 5,
   "metadata": {},
   "outputs": [
    {
     "name": "stdout",
     "output_type": "stream",
     "text": [
      " Data size (1499, 201)\n",
      "X_train size (1124, 100)\n",
      "X_test size (375, 100)\n"
     ]
    }
   ],
   "source": [
    "print(\" Data size\", data.shape)\n",
    "print(\"X_train size\",X_train.shape)\n",
    "print(\"X_test size\", X_test.shape)"
   ]
  },
  {
   "cell_type": "markdown",
   "metadata": {},
   "source": [
    "### Clustering  using k-Means and k-Medoids via Elbow "
   ]
  },
  {
   "cell_type": "code",
   "execution_count": 3,
   "metadata": {},
   "outputs": [],
   "source": [
    "\"\"\"Split your training original data by class\"\"\"\n",
    "X_train_class_0 = X_train[y_train == 0]  # Class 0\n",
    "y_train_class_0 = y_train[y_train == 0]  # Class 0\n",
    "X_train_class_1 = X_train[y_train == 1]  # Class 1\n",
    "y_train_class_1 = y_train[y_train == 1]  # Class 1"
   ]
  },
  {
   "cell_type": "markdown",
   "metadata": {},
   "source": [
    "#### 1) Cluster's number selection:"
   ]
  },
  {
   "cell_type": "markdown",
   "metadata": {},
   "source": [
    "#### a) For k-Medoids"
   ]
  },
  {
   "cell_type": "code",
   "execution_count": 4,
   "metadata": {},
   "outputs": [
    {
     "name": "stdout",
     "output_type": "stream",
     "text": [
      "Chosen k for class 1 with K-Medoids using Elbow method for n=754 is k_opt = 70\n",
      "Chosen k for class 0 with K-Medoids using Elbow method for n=370 is k_opt = 64\n"
     ]
    }
   ],
   "source": [
    "k_values_Elbow = range(4, 80)\n",
    "threshold = 0.9\n",
    "#class 1\n",
    "n = X_train_class_1.shape[0]\n",
    "inertia_values_kmedoids_p = []\n",
    "for k in k_values_Elbow:\n",
    "    kmedoids = KMedoids(n_clusters=k,init='k-medoids++')\n",
    "    kmedoids.fit(X_train_class_1)\n",
    "    inertia_values_kmedoids_p.append(kmedoids.inertia_)\n",
    "    # Choosing k using the elbow method for K-Medoids\n",
    "inertia_cumsum_kmedoids_p = np.cumsum(inertia_values_kmedoids_p)\n",
    "total_inertia_kmedoids_p = inertia_cumsum_kmedoids_p[-1]\n",
    "chosen_k_medoids_p = next(k for k, inertia in zip(k_values_Elbow, inertia_cumsum_kmedoids_p / total_inertia_kmedoids_p) if inertia >= threshold)\n",
    "print(\"Chosen k for class 1 with K-Medoids using Elbow method for n={} is k_opt = {}\".format(n, chosen_k_medoids_p))\n",
    "#class 0\n",
    "n_0 = X_train_class_0.shape[0]\n",
    "inertia_values_kmedoids_n = []\n",
    "for k in k_values_Elbow:\n",
    "    # K-Medoids\n",
    "    kmedoids = KMedoids(n_clusters=k,init='k-medoids++')\n",
    "    kmedoids.fit(X_train_class_0)\n",
    "    inertia_values_kmedoids_n.append(kmedoids.inertia_)\n",
    "    # Choosing k using the elbow method for K-Medoids\n",
    "inertia_cumsum_kmedoids_n = np.cumsum(inertia_values_kmedoids_n)\n",
    "total_inertia_kmedoids_n = inertia_cumsum_kmedoids_n[-1]\n",
    "chosen_k_medoids_n = next(k for k, inertia in zip(k_values_Elbow, inertia_cumsum_kmedoids_n / total_inertia_kmedoids_n) if inertia >= threshold)\n",
    "print(\"Chosen k for class 0 with K-Medoids using Elbow method for n={} is k_opt = {}\".format(n_0, chosen_k_medoids_n))"
   ]
  },
  {
   "cell_type": "markdown",
   "metadata": {},
   "source": [
    "#### b) For k-Means"
   ]
  },
  {
   "cell_type": "code",
   "execution_count": 6,
   "metadata": {},
   "outputs": [
    {
     "name": "stdout",
     "output_type": "stream",
     "text": [
      "Chosen k for class 1 with K-Means using Elbow method for n=754 is k_opt = 66\n",
      "Chosen k for class 0 with K-Means using Elbow method for n=370 is k_opt = 58\n"
     ]
    }
   ],
   "source": [
    "#class 1\n",
    "inertia_values_kmeans_p = []\n",
    "for k in k_values_Elbow:\n",
    "    # K-Means\n",
    "    kmeans = KMeans(n_clusters=k, init='k-means++', n_init=10)\n",
    "    kmeans.fit(X_train_class_1)\n",
    "    inertia_values_kmeans_p.append(kmeans.inertia_)\n",
    "    # Choosing k using the elbow method for K-Means\n",
    "inertia_cumsum_kmeans_p = np.cumsum(inertia_values_kmeans_p)\n",
    "total_inertia_kmeans_p = inertia_cumsum_kmeans_p[-1]\n",
    "chosen_k_means_p = next(k for k, inertia in zip(k_values_Elbow, inertia_cumsum_kmeans_p/ total_inertia_kmeans_p) if inertia >= threshold)\n",
    "print(\"Chosen k for class 1 with K-Means using Elbow method for n={} is k_opt = {}\".format(n, chosen_k_means_p))\n",
    "#N class 0\n",
    "inertia_values_kmeans_n = []\n",
    "for k in k_values_Elbow:\n",
    "    # K-Means\n",
    "    kmeans = KMeans(n_clusters=k, init='k-means++', n_init=10)\n",
    "    kmeans.fit(X_train_class_0)\n",
    "    inertia_values_kmeans_n.append(kmeans.inertia_)\n",
    "    # Choosing k using the elbow method for K-Means\n",
    "inertia_cumsum_kmeans_n = np.cumsum(inertia_values_kmeans_n)\n",
    "total_inertia_kmeans_n = inertia_cumsum_kmeans_n[-1]\n",
    "chosen_k_means_n = next(k for k, inertia in zip(k_values_Elbow, inertia_cumsum_kmeans_n/ total_inertia_kmeans_n) if inertia >= threshold)\n",
    "print(\"Chosen k for class 0 with K-Means using Elbow method for n={} is k_opt = {}\".format(n_0, chosen_k_means_n))"
   ]
  },
  {
   "cell_type": "markdown",
   "metadata": {},
   "source": [
    "#### 2) Reduced training-data (samples):"
   ]
  },
  {
   "cell_type": "markdown",
   "metadata": {},
   "source": [
    "#### a) Using k-Medoids"
   ]
  },
  {
   "cell_type": "code",
   "execution_count": 7,
   "metadata": {},
   "outputs": [
    {
     "name": "stdout",
     "output_type": "stream",
     "text": [
      "X_red_kmedoid_size (134, 100)\n"
     ]
    }
   ],
   "source": [
    "#Class 1\n",
    "kmedoidsp=KMedoids(chosen_k_medoids_p,init='k-medoids++',max_iter=500).fit(X_train_class_1)\n",
    "medoid_indices_p=kmedoidsp.medoid_indices_\n",
    "x_reduced_medoid_p=np.array(X_train_class_1)[medoid_indices_p]\n",
    "y_reduced_medoid_p=np.array(y_train_class_1)[medoid_indices_p]\n",
    "#Class 0\n",
    "kmedoidsn=KMedoids(n_clusters=chosen_k_medoids_n,init='k-medoids++',max_iter=500).fit(X_train_class_0)\n",
    "medoid_indices_n=kmedoidsn.medoid_indices_\n",
    "x_reduced_medoid_n=np.array(X_train_class_0)[medoid_indices_n]\n",
    "y_reduced_medoid_n=np.array(y_train_class_0)[medoid_indices_n]\n",
    "#Concatenate\n",
    "X_red_kmedoid = np.concatenate([x_reduced_medoid_p, x_reduced_medoid_n])\n",
    "y_red_kmedoid = np.concatenate([y_reduced_medoid_p, y_reduced_medoid_n])\n",
    "\n",
    "\"\"\"Shapes!\"\"\"\n",
    "X_red_kmedoid_size=X_red_kmedoid.shape\n",
    "print(\"X_red_kmedoid_size\",X_red_kmedoid_size)"
   ]
  },
  {
   "cell_type": "markdown",
   "metadata": {},
   "source": [
    "#### b) Using k-Means"
   ]
  },
  {
   "cell_type": "code",
   "execution_count": 8,
   "metadata": {},
   "outputs": [
    {
     "name": "stderr",
     "output_type": "stream",
     "text": [
      "c:\\Users\\Amal\\AppData\\Local\\Programs\\Python\\Python312\\Lib\\site-packages\\sklearn\\base.py:465: UserWarning: X does not have valid feature names, but NearestNeighbors was fitted with feature names\n",
      "  warnings.warn(\n"
     ]
    },
    {
     "name": "stdout",
     "output_type": "stream",
     "text": [
      "X_red_kmeans_size= (124, 100)\n"
     ]
    },
    {
     "name": "stderr",
     "output_type": "stream",
     "text": [
      "c:\\Users\\Amal\\AppData\\Local\\Programs\\Python\\Python312\\Lib\\site-packages\\sklearn\\base.py:465: UserWarning: X does not have valid feature names, but NearestNeighbors was fitted with feature names\n",
      "  warnings.warn(\n"
     ]
    }
   ],
   "source": [
    "#Class 1\n",
    "kmeansp=KMeans(n_clusters=chosen_k_means_p,n_init=10,init='k-means++').fit(X_train_class_1)\n",
    "centroids1=kmeansp.cluster_centers_\n",
    "knn=NearestNeighbors(n_neighbors=1).fit(X_train_class_1)\n",
    "distances, indices = knn.kneighbors(centroids1)\n",
    "x_reduced_1 = np.array(X_train_class_1)[np.squeeze(indices)]\n",
    "y_reduced_1 = np.array(y_train_class_1)[np.squeeze(indices)]\n",
    "#Class 0\n",
    "kmeansn=KMeans(n_clusters=chosen_k_means_n,n_init=10,init='k-means++').fit(X_train_class_0)\n",
    "centroids_0=kmeansn.cluster_centers_\n",
    "knn_0=NearestNeighbors(n_neighbors=1).fit(X_train_class_0)\n",
    "distances_0, indices_0 = knn_0.kneighbors(centroids_0)\n",
    "x_reduced_0 = np.array(X_train_class_0)[np.squeeze(indices_0)]\n",
    "y_reduced_0 = np.array(y_train_class_0)[np.squeeze(indices_0)]\n",
    "#concatenate\n",
    "x_reduced_kmeans=np.concatenate([x_reduced_1,x_reduced_0])\n",
    "y_reduced_kmeans=np.concatenate([y_reduced_1,y_reduced_0])\n",
    "\"\"\"Shapes!\"\"\"\n",
    "X_red_kmeans_size=x_reduced_kmeans.shape\n",
    "print(\"X_red_kmeans_size=\",X_red_kmeans_size)"
   ]
  },
  {
   "cell_type": "markdown",
   "metadata": {},
   "source": [
    "### Learn and predict GPC / RGPC_kMedoids / RGPC_kMeans"
   ]
  },
  {
   "cell_type": "markdown",
   "metadata": {},
   "source": [
    "#### 1) The Gaussian Process Classifier with RBF kernel for the original case"
   ]
  },
  {
   "cell_type": "code",
   "execution_count": 9,
   "metadata": {},
   "outputs": [
    {
     "name": "stdout",
     "output_type": "stream",
     "text": [
      "GPC execution time= 23.413249969482422\n"
     ]
    }
   ],
   "source": [
    "kernel =RBF(length_scale=1.0)\n",
    "# Record the starting time\n",
    "start_time_GPC = time.time()\n",
    "# Learn the model\n",
    "model_GPC = GaussianProcessClassifier(kernel=kernel).fit(X_train, y_train)\n",
    "# Prediction \n",
    "y_pred_GPC=model_GPC.predict(X_test)\n",
    "# Evaluation\n",
    "accuracy_GPC = accuracy_score(y_test,y_pred_GPC)\n",
    "auc_GPC = roc_auc_score(y_test, y_pred_GPC)\n",
    "f1_score_GPC = f1_score(y_test, y_pred_GPC)\n",
    "recall_GPC = recall_score(y_test, y_pred_GPC)\n",
    "f1_score_GPC = f1_score(y_test, y_pred_GPC)\n",
    "# Record the ending time\n",
    "end_time_GPC = time.time()\n",
    "execution_time_GPC=end_time_GPC-start_time_GPC\n",
    "print(\"GPC execution time=\",execution_time_GPC)"
   ]
  },
  {
   "cell_type": "markdown",
   "metadata": {},
   "source": [
    "#### 2) The k-Medoids reduced Gaussian Classifier"
   ]
  },
  {
   "cell_type": "code",
   "execution_count": 10,
   "metadata": {},
   "outputs": [
    {
     "name": "stdout",
     "output_type": "stream",
     "text": [
      "k-Medoids RGPC execution time= 0.354783296585083\n"
     ]
    },
    {
     "name": "stderr",
     "output_type": "stream",
     "text": [
      "c:\\Users\\Amal\\AppData\\Local\\Programs\\Python\\Python312\\Lib\\site-packages\\sklearn\\base.py:458: UserWarning: X has feature names, but GaussianProcessClassifier was fitted without feature names\n",
      "  warnings.warn(\n"
     ]
    }
   ],
   "source": [
    "# Record the starting time\n",
    "start_time_RGPC_med = time.time()\n",
    "# Learn the model\n",
    "reduced_model_medoid = GaussianProcessClassifier(kernel).fit(X_red_kmedoid, y_red_kmedoid)\n",
    "# Prediction\n",
    "y_pred_medoid=reduced_model_medoid.predict(X_test) \n",
    "# Evaluation\n",
    "accuracy_RGPC_kMedoids = accuracy_score(y_test,y_pred_medoid)\n",
    "auc_RGPC_kMedoids = roc_auc_score(y_test, y_pred_medoid)\n",
    "recall_RGPC_kMedoids = recall_score(y_test, y_pred_medoid)\n",
    "f1_score_RGPC_kMedoids = f1_score(y_test, y_pred_medoid)\n",
    "# Record the ending time\n",
    "end_time_RGPC_med = time.time()\n",
    "execution_time_RGPC_med=end_time_RGPC_med-start_time_RGPC_med\n",
    "print(\"k-Medoids RGPC execution time=\",execution_time_RGPC_med)"
   ]
  },
  {
   "cell_type": "markdown",
   "metadata": {},
   "source": [
    "#### 3) The k_Means reduced Gaussian Classifier"
   ]
  },
  {
   "cell_type": "code",
   "execution_count": 13,
   "metadata": {},
   "outputs": [
    {
     "name": "stdout",
     "output_type": "stream",
     "text": [
      "k-Means RGPC execution time= 0.2518439292907715\n"
     ]
    },
    {
     "name": "stderr",
     "output_type": "stream",
     "text": [
      "c:\\Users\\Amal\\AppData\\Local\\Programs\\Python\\Python312\\Lib\\site-packages\\sklearn\\base.py:458: UserWarning: X has feature names, but GaussianProcessClassifier was fitted without feature names\n",
      "  warnings.warn(\n"
     ]
    }
   ],
   "source": [
    "# Record the starting time\n",
    "start_time_RGPC_mean = time.time()\n",
    "# Learn the model\n",
    "reduced_model_mean = GaussianProcessClassifier(kernel, random_state=42).fit(x_reduced_kmeans, y_reduced_kmeans)\n",
    "# Prediction\n",
    "y_pred_mean=reduced_model_mean.predict(X_test)\n",
    "# Evaluation\n",
    "accuracy_RGPC_kMeans = accuracy_score(y_test,y_pred_mean)\n",
    "auc_RGPC_kMeans = roc_auc_score(y_test, y_pred_mean)\n",
    "recall_RGPC_kMeans = recall_score(y_test, y_pred_mean)\n",
    "f1_score_RGPC_kMeans = f1_score(y_test, y_pred_mean)\n",
    "# Record the ending time\n",
    "end_time_RGPC_mean = time.time()\n",
    "execution_time_RGPC_mean=end_time_RGPC_mean-start_time_RGPC_mean\n",
    "print(\"k-Means RGPC execution time=\",execution_time_RGPC_mean)"
   ]
  },
  {
   "cell_type": "markdown",
   "metadata": {},
   "source": [
    "### Comparison"
   ]
  },
  {
   "cell_type": "code",
   "execution_count": 20,
   "metadata": {},
   "outputs": [
    {
     "name": "stdout",
     "output_type": "stream",
     "text": [
      "               GPC  RGPC_kMeans  RGPC_kMedoids  Execution Time (s)\n",
      "Metric                                                            \n",
      "Accuracy  0.928000     0.888000       0.882667           23.413250\n",
      "AUC       0.905785     0.862674       0.847970            0.251844\n",
      "F1-score  0.946535     0.916667       0.914397            0.354783\n"
     ]
    }
   ],
   "source": [
    "\n",
    "# Evaluation metrics for GPC\n",
    "evaluation_GPC = [accuracy_GPC, auc_GPC, f1_score_GPC]\n",
    "execution_time_GPC = execution_time_GPC\n",
    "\n",
    "# Evaluation metrics for RGPC_kMeans\n",
    "evaluation_RGPC_kMeans = [accuracy_RGPC_kMeans, auc_RGPC_kMeans, f1_score_RGPC_kMeans]\n",
    "execution_time_RGPC_mean = execution_time_RGPC_mean\n",
    "\n",
    "# Evaluation metrics for RGPC_kMedoids\n",
    "evaluation_RGPC_kMedoids = [accuracy_RGPC_kMedoids, auc_RGPC_kMedoids, f1_score_RGPC_kMedoids]\n",
    "execution_time_RGPC_med = execution_time_RGPC_med\n",
    "\n",
    "# Define the metrics\n",
    "metrics = ['Accuracy', 'AUC', 'F1-score']\n",
    "\n",
    "# Create the DataFrame\n",
    "df = pd.DataFrame({'Metric': metrics,\n",
    "                   'GPC': evaluation_GPC,\n",
    "                   'RGPC_kMeans': evaluation_RGPC_kMeans,\n",
    "                   'RGPC_kMedoids': evaluation_RGPC_kMedoids,\n",
    "                   'Execution Time ': [execution_time_GPC, execution_time_RGPC_mean, execution_time_RGPC_med]})\n",
    "\n",
    "# Set the Metric column as index\n",
    "df.set_index('Metric', inplace=True)\n",
    "\n",
    "# Display the DataFrame\n",
    "print(df)\n"
   ]
  }
 ],
 "metadata": {
  "kernelspec": {
   "display_name": "Python 3",
   "language": "python",
   "name": "python3"
  },
  "language_info": {
   "codemirror_mode": {
    "name": "ipython",
    "version": 3
   },
   "file_extension": ".py",
   "mimetype": "text/x-python",
   "name": "python",
   "nbconvert_exporter": "python",
   "pygments_lexer": "ipython3",
   "version": "3.7.3"
  }
 },
 "nbformat": 4,
 "nbformat_minor": 2
}
